{
  "nbformat": 4,
  "nbformat_minor": 0,
  "metadata": {
    "colab": {
      "provenance": [],
      "authorship_tag": "ABX9TyPGSgE6SllkQnZwXEcpGUDz",
      "include_colab_link": true
    },
    "kernelspec": {
      "name": "python3",
      "display_name": "Python 3"
    },
    "language_info": {
      "name": "python"
    }
  },
  "cells": [
    {
      "cell_type": "markdown",
      "metadata": {
        "id": "view-in-github",
        "colab_type": "text"
      },
      "source": [
        "<a href=\"https://colab.research.google.com/github/tuannguyen1291/Vecto/blob/main/Bt_vecto.ipynb\" target=\"_parent\"><img src=\"https://colab.research.google.com/assets/colab-badge.svg\" alt=\"Open In Colab\"/></a>"
      ]
    },
    {
      "cell_type": "markdown",
      "source": [
        "## Câu 1:"
      ],
      "metadata": {
        "id": "gC_ZQWm2AKUY"
      }
    },
    {
      "cell_type": "code",
      "execution_count": null,
      "metadata": {
        "colab": {
          "base_uri": "https://localhost:8080/"
        },
        "id": "cMqYwDqv6PLD",
        "outputId": "18abe628-a054-47d1-a73a-1849bdb701ff"
      },
      "outputs": [
        {
          "output_type": "stream",
          "name": "stdout",
          "text": [
            "Nhập vào x: 6\n",
            "Nhập lại x: 7\n",
            "[0, 1, 2, 3, 4, 5, 6]\n"
          ]
        }
      ],
      "source": [
        "x=abs(int(input(\"Nhập vào x: \")))\n",
        "A=[]\n",
        "for i in range (0,x+1):\n",
        "  if x!=7:\n",
        "    x=abs(int(input(\"Nhập lại x: \")))\n",
        "  A.append(i)\n",
        "print(A)"
      ]
    },
    {
      "cell_type": "markdown",
      "source": [
        "##Câu 2:"
      ],
      "metadata": {
        "id": "ZB5nea96AOWQ"
      }
    },
    {
      "cell_type": "code",
      "source": [
        "#Thư viện random\n",
        "import random\n",
        "A=[]\n",
        "for i in range(1,31):\n",
        " A.append(random.randint(-10,10))\n",
        "print(A)"
      ],
      "metadata": {
        "colab": {
          "base_uri": "https://localhost:8080/"
        },
        "id": "an3A-ejNpgMa",
        "outputId": "7803db5b-5c6a-4543-e161-725fa10e4bb4"
      },
      "execution_count": null,
      "outputs": [
        {
          "output_type": "stream",
          "name": "stdout",
          "text": [
            "[-10, 3, 0, 1, 7, -7, 5, 6, 1, 3, -7, 7, 7, -8, -3, -8, 1, 5, 4, 0, 1, -1, -5, -2, -3, 9, -3, -1, -5, 0]\n"
          ]
        }
      ]
    },
    {
      "cell_type": "markdown",
      "source": [
        "##Câu 3"
      ],
      "metadata": {
        "id": "3_YD_ih-APCt"
      }
    },
    {
      "cell_type": "code",
      "source": [
        "#thư viện random\n",
        "import random\n",
        "A=[]\n",
        "for i in range(0,30):\n",
        "  A.append(random.uniform(-5.7,6.9))\n",
        "print(A)"
      ],
      "metadata": {
        "id": "CFpP4ICVrx9O",
        "colab": {
          "base_uri": "https://localhost:8080/"
        },
        "outputId": "3b2bed48-830e-4005-a726-39afcc67629a"
      },
      "execution_count": null,
      "outputs": [
        {
          "output_type": "stream",
          "name": "stdout",
          "text": [
            "[-3.6495561933018634, 3.9496170422890815, 2.1985482039272704, -5.077393681370365, 0.512716033028064, 1.751915732413826, 6.059918221468712, -2.173476735330039, 5.873500164443807, 0.23710980130699966, -0.7749152924899949, -2.535681195211342, 6.474118187843831, 5.883606975233209, -2.190112978847444, -0.38637128517695896, 3.314954764122482, 2.9437259165623244, 3.0062627648976052, 0.48442389633427574, -1.7907186618747537, 4.1119547083621955, 3.581897160699792, -1.9701686664212565, -0.7025198578905654, -1.5109670624592377, 2.3380593763730433, -4.410908660570403, 4.466786112375581, -4.492129101750568]\n"
          ]
        }
      ]
    },
    {
      "cell_type": "markdown",
      "source": [
        "##Câu4"
      ],
      "metadata": {
        "id": "fXfxb36_APXa"
      }
    },
    {
      "cell_type": "code",
      "source": [
        "import numpy as np\n",
        "a = int(input(\"Nhập phần tử của a = \"))\n",
        "x=np.random.randint(-10,10,(1,11))\n",
        "y=x*a\n",
        "print(x)\n",
        "print(y)"
      ],
      "metadata": {
        "colab": {
          "base_uri": "https://localhost:8080/"
        },
        "id": "5aXOXFW9u7lL",
        "outputId": "bf387127-a643-4d95-910e-c10f1c2a818c"
      },
      "execution_count": null,
      "outputs": [
        {
          "output_type": "stream",
          "name": "stdout",
          "text": [
            "Nhập phần tử của a = 2\n",
            "[[-3  3  4  2  5  0  8 -1 -5 -2 -9]]\n",
            "[[ -6   6   8   4  10   0  16  -2 -10  -4 -18]]\n"
          ]
        }
      ]
    },
    {
      "cell_type": "markdown",
      "source": [
        "##Câu 5"
      ],
      "metadata": {
        "id": "jn1sT3hQAPtz"
      }
    },
    {
      "cell_type": "code",
      "source": [
        "import numpy as np\n",
        "x=np.random.randint(-10,10,(1,16))\n",
        "y=np.random.randint(-10,10,(1,16))\n",
        "print(x)\n",
        "print(y)    \n",
        "print(x+y)\n",
        "print(x-y)"
      ],
      "metadata": {
        "id": "ApBlXQahu9fT",
        "colab": {
          "base_uri": "https://localhost:8080/"
        },
        "outputId": "8c136d76-9598-4c91-9e51-0ed2113654b1"
      },
      "execution_count": null,
      "outputs": [
        {
          "output_type": "stream",
          "name": "stdout",
          "text": [
            "[[  6  -4  -4   8  -6   6   7   6   5  -9   8  -9  -1  -3 -10   9]]\n",
            "[[ 9  7  5 -6  4  7 -4 -8  5  2  9 -6 -3  8 -6  9]]\n",
            "[[ 15   3   1   2  -2  13   3  -2  10  -7  17 -15  -4   5 -16  18]]\n",
            "[[ -3 -11  -9  14 -10  -1  11  14   0 -11  -1  -3   2 -11  -4   0]]\n"
          ]
        }
      ]
    },
    {
      "cell_type": "markdown",
      "source": [
        "## Câu6"
      ],
      "metadata": {
        "id": "f6iGjCMSAQ5h"
      }
    },
    {
      "cell_type": "code",
      "source": [
        "import numpy as np\n",
        "x=np.random.randint(-10, 10,(1,11))\n",
        "y=np.random.randint(-10,10,(1,11))\n",
        "z=np.multiply(x,y)\n",
        "print(x)\n",
        "print(y)\n",
        "print(z)"
      ],
      "metadata": {
        "id": "RNtEDHStvAxg",
        "colab": {
          "base_uri": "https://localhost:8080/"
        },
        "outputId": "48046dd8-ddab-4b49-bc33-2e18546a0561"
      },
      "execution_count": null,
      "outputs": [
        {
          "output_type": "stream",
          "name": "stdout",
          "text": [
            "[[ 3 -8  8  6 -9  0  8  3  8  5  5]]\n",
            "[[ -6   4   8  -5  -2 -10  -9   1  -1  -4  -8]]\n",
            "[[-18 -32  64 -30  18   0 -72   3  -8 -20 -40]]\n"
          ]
        }
      ]
    },
    {
      "cell_type": "markdown",
      "source": [
        "##Câu 7: Tính tích vô hướng hai vecto"
      ],
      "metadata": {
        "id": "SLCamJawARU-"
      }
    },
    {
      "cell_type": "code",
      "source": [
        "import random\n",
        "x = []\n",
        "y = []\n",
        "TVH = 0 \n",
        "for i in range (0,10,1):\n",
        "    x.append(random.randint(-10,10))\n",
        "    y.append(random.randint(-10,10))\n",
        "    TVH=TVH+(x[i]*y[i])\n",
        "print(x)\n",
        "print(y)\n",
        "print(TVH)"
      ],
      "metadata": {
        "id": "MP0WmONPtpJM",
        "colab": {
          "base_uri": "https://localhost:8080/"
        },
        "outputId": "b9c5be24-9954-4e7f-d40a-414d3958031b"
      },
      "execution_count": null,
      "outputs": [
        {
          "output_type": "stream",
          "name": "stdout",
          "text": [
            "[0, -5, 5, 5, 8, 1, 0, -1, -5, -10]\n",
            "[4, 4, 5, -6, 2, -5, 5, 0, 3, -8]\n",
            "51\n"
          ]
        }
      ]
    },
    {
      "cell_type": "markdown",
      "source": [
        "##Câu 8: Sinh ngẫu nhiên ma trận, in phần tử a23"
      ],
      "metadata": {
        "id": "SMLS6BqaARk5"
      }
    },
    {
      "cell_type": "code",
      "source": [
        "import numpy as np\n",
        "_A=np.random.randint(-10,10,(3,5))\n",
        "print(\"Ma trận A là: \")\n",
        "for doing in _A:\n",
        "  for element in doing:\n",
        "    print(element,end=\" \")\n",
        "  print()\n",
        "print(\"Giá trị của a23:\")\n",
        "print(_A[1,2])"
      ],
      "metadata": {
        "colab": {
          "base_uri": "https://localhost:8080/"
        },
        "id": "HINLWvvdgMJU",
        "outputId": "fb292008-3a57-429d-8d2c-f822413ff913"
      },
      "execution_count": null,
      "outputs": [
        {
          "output_type": "stream",
          "name": "stdout",
          "text": [
            "Ma trận A là: \n",
            "7 8 6 -5 -2 \n",
            "-1 -2 -1 -9 -9 \n",
            "8 4 8 0 -6 \n",
            "Giá trị của a23:\n",
            "-1\n"
          ]
        }
      ]
    },
    {
      "cell_type": "markdown",
      "source": [
        "##Câu 9:nhân vô hướng"
      ],
      "metadata": {
        "id": "XKX5EW5jAR4l"
      }
    },
    {
      "cell_type": "code",
      "source": [
        "import numpy as np\n",
        "a=int(input(\"Nhập hệ số tự do: \"))\n",
        "_A=np.random.randint(-10,10,(3,5))\n",
        "print(\"Ma trận A là: \")\n",
        "for doing in _A:\n",
        "  for element in doing:\n",
        "    print(element,end=\" \")\n",
        "  print()\n",
        "A=np.array(_A)\n",
        "X=a*A\n",
        "print(\"Ma trận a*A là: \")\n",
        "for doing in X:\n",
        "  for element in doing:\n",
        "    print(element,end=\" \")\n",
        "  print()"
      ],
      "metadata": {
        "id": "onlNrmFFhVo-",
        "colab": {
          "base_uri": "https://localhost:8080/"
        },
        "outputId": "09cc11fa-d961-4665-cf9f-e1f069d7a910"
      },
      "execution_count": null,
      "outputs": [
        {
          "output_type": "stream",
          "name": "stdout",
          "text": [
            "Nhập hệ số tự do: 5\n",
            "Ma trận A là: \n",
            "-10 7 2 5 -9 \n",
            "-2 -3 7 7 8 \n",
            "-4 -8 -2 -8 3 \n",
            "Ma trận a*A là: \n",
            "-50 35 10 25 -45 \n",
            "-10 -15 35 35 40 \n",
            "-20 -40 -10 -40 15 \n"
          ]
        }
      ]
    },
    {
      "cell_type": "markdown",
      "source": [
        "##Câu 10: Phép cộng hai ma trận"
      ],
      "metadata": {
        "id": "7MMpE-8DASMH"
      }
    },
    {
      "cell_type": "code",
      "source": [
        "import numpy as np\n",
        "_A=np.random.randint(-5,5,(3,5))\n",
        "print(\"Ma trận A là: \")\n",
        "for doing in _A:\n",
        "  for element in doing:\n",
        "    print(element,end=\" \")\n",
        "  print()\n",
        "_B=np.random.randint(-5,5,(3,5))\n",
        "print(\"Ma trận B là: \")\n",
        "for doing in _B:\n",
        "  for element in doing:\n",
        "    print(element,end=\" \")\n",
        "  print()\n",
        "A=np.array(_A)\n",
        "B=np.array(_B)\n",
        "C=A+B\n",
        "print(\"Ma trận A + B là: \")\n",
        "for doing in C:\n",
        "  for element in doing:\n",
        "    print(element,end=\" \")\n",
        "  print()"
      ],
      "metadata": {
        "colab": {
          "base_uri": "https://localhost:8080/"
        },
        "id": "9lAd0rjKbkje",
        "outputId": "73adcd0a-b239-4044-efeb-2bdb12f4c14b"
      },
      "execution_count": null,
      "outputs": [
        {
          "output_type": "stream",
          "name": "stdout",
          "text": [
            "Ma trận A là: \n",
            "4 3 0 1 -5 \n",
            "1 -3 3 -2 -4 \n",
            "-4 -1 -4 0 1 \n",
            "Ma trận B là: \n",
            "3 2 4 0 -2 \n",
            "-4 -4 2 -5 4 \n",
            "-2 -1 4 -5 -4 \n",
            "Ma trận A + B là: \n",
            "7 5 4 1 -7 \n",
            "-3 -7 5 -7 0 \n",
            "-6 -2 0 -5 -3 \n"
          ]
        }
      ]
    },
    {
      "cell_type": "markdown",
      "source": [
        "## Câu 11: Phép nhân hai ma trận "
      ],
      "metadata": {
        "id": "-8Cia4M0ASXs"
      }
    },
    {
      "cell_type": "code",
      "source": [
        "import numpy as np\n",
        "_A=np.random.randint(-10,10,(3,4))\n",
        "print(\"Ma trận A là: \")\n",
        "for doing in _A:\n",
        "  for element in doing:\n",
        "    print(element,end=\" \")\n",
        "  print()\n",
        "_B=np.random.randint(-10,10,(4,5))\n",
        "print(\"Ma trận B là: \")\n",
        "for doing in _B:\n",
        "  for element in doing:\n",
        "    print(element,end=\" \")\n",
        "  print()\n",
        "A=np.array(_A)\n",
        "B=np.array(_B)\n",
        "C=A.dot(B)\n",
        "print(\"Hai ma trận nhân nhau: \")\n",
        "for doing in C:\n",
        "  for element in doing:\n",
        "    print(element,end=\" \")\n",
        "  print()"
      ],
      "metadata": {
        "id": "hgadD4DGAZLm",
        "colab": {
          "base_uri": "https://localhost:8080/"
        },
        "outputId": "77b2ecb4-5aad-4ee2-802f-f318e850a830"
      },
      "execution_count": null,
      "outputs": [
        {
          "output_type": "stream",
          "name": "stdout",
          "text": [
            "Ma trận A là: \n",
            "9 -7 6 8 \n",
            "0 -4 1 -1 \n",
            "2 1 9 2 \n",
            "Ma trận B là: \n",
            "6 -1 -2 -10 -7 \n",
            "3 0 -6 -2 -6 \n",
            "-5 -1 4 1 8 \n",
            "7 -3 -1 -10 -5 \n",
            "Hai ma trận nhân nhau: \n",
            "59 -39 40 -150 -13 \n",
            "-24 2 29 19 37 \n",
            "-16 -17 24 -33 42 \n"
          ]
        }
      ]
    }
  ]
}