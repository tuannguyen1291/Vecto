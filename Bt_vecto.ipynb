{
  "nbformat": 4,
  "nbformat_minor": 0,
  "metadata": {
    "colab": {
      "provenance": [],
      "authorship_tag": "ABX9TyMAB6GYmRGoXgRtOMUMd+Vm",
      "include_colab_link": true
    },
    "kernelspec": {
      "name": "python3",
      "display_name": "Python 3"
    },
    "language_info": {
      "name": "python"
    }
  },
  "cells": [
    {
      "cell_type": "markdown",
      "metadata": {
        "id": "view-in-github",
        "colab_type": "text"
      },
      "source": [
        "<a href=\"https://colab.research.google.com/github/tuannguyen1291/Vecto/blob/main/Bt_vecto.ipynb\" target=\"_parent\"><img src=\"https://colab.research.google.com/assets/colab-badge.svg\" alt=\"Open In Colab\"/></a>"
      ]
    },
    {
      "cell_type": "markdown",
      "source": [
        "## Câu 1:"
      ],
      "metadata": {
        "id": "gC_ZQWm2AKUY"
      }
    },
    {
      "cell_type": "code",
      "execution_count": null,
      "metadata": {
        "colab": {
          "base_uri": "https://localhost:8080/"
        },
        "id": "cMqYwDqv6PLD",
        "outputId": "b69de657-d154-40c3-c8a5-d7cc9e706a95"
      },
      "outputs": [
        {
          "output_type": "stream",
          "name": "stdout",
          "text": [
            "Nhập vào x: 7\n",
            "Ma trận là:\n",
            "[0, 1, 2, 3, 4, 5, 6, 7]\n"
          ]
        }
      ],
      "source": [
        "x=abs(int(input(\"Nhập vào x: \")))\n",
        "A=[]\n",
        "for i in range (0,x+1):\n",
        "  if x!=7:\n",
        "    x=abs(int(input(\"Nhập lại x: \")))\n",
        "  A.append(i)\n",
        "print(\"Ma trận là:\")\n",
        "print(A)"
      ]
    },
    {
      "cell_type": "markdown",
      "source": [
        "##Câu 2:"
      ],
      "metadata": {
        "id": "ZB5nea96AOWQ"
      }
    },
    {
      "cell_type": "code",
      "source": [
        "#Thư viện random\n",
        "import random\n",
        "A=[]\n",
        "for i in range(1,31):\n",
        " A.append(random.randint(-10,10))\n",
        "print(\"Ma trận là:\")\n",
        "print(A)"
      ],
      "metadata": {
        "colab": {
          "base_uri": "https://localhost:8080/"
        },
        "id": "an3A-ejNpgMa",
        "outputId": "817bb75e-8b25-4852-bea0-94cdd6e8d6cb"
      },
      "execution_count": null,
      "outputs": [
        {
          "output_type": "stream",
          "name": "stdout",
          "text": [
            "Ma trận là:\n",
            "[-3, -1, 1, 2, -7, -1, 7, -1, 10, 5, -9, 4, -10, 2, 5, 8, -4, 2, -10, -9, 9, -1, -10, 8, 10, 9, 4, 0, 3, 5]\n"
          ]
        }
      ]
    },
    {
      "cell_type": "markdown",
      "source": [
        "##Câu 3"
      ],
      "metadata": {
        "id": "3_YD_ih-APCt"
      }
    },
    {
      "cell_type": "code",
      "source": [
        "#thư viện random\n",
        "import random\n",
        "A=[]\n",
        "for i in range(0,30):\n",
        "  A.append(random.uniform(-5.7,6.9))\n",
        "print(\"Ma trận là:\")\n",
        "print(A)"
      ],
      "metadata": {
        "id": "CFpP4ICVrx9O",
        "colab": {
          "base_uri": "https://localhost:8080/"
        },
        "outputId": "f872b756-0dbe-4ba7-f68f-3d956ce4bbe6"
      },
      "execution_count": null,
      "outputs": [
        {
          "output_type": "stream",
          "name": "stdout",
          "text": [
            "Ma trận là:\n",
            "[3.4513722690890196, -1.0806408738227047, -5.162974330401609, -4.1011491689313715, -0.5971464253428813, -0.9110705453079779, -1.6266872114861943, -2.6337747868413093, 3.15526083924155, -2.759242984110478, 1.420955232133207, 0.17706086296347312, -5.3461072535662995, 5.996026779584789, -5.593227968218501, -3.318409300294148, -1.4629029346824174, -0.7456262890303123, 5.035498027911561, 2.0243873003154977, 6.085324848724395, -2.021295076332911, -4.292868533491751, -0.17880577595511937, 4.040825700400709, 2.822289697026773, 0.6447472670424386, -1.126917670088032, 6.368846307887439, -1.9083245155759427]\n"
          ]
        }
      ]
    },
    {
      "cell_type": "markdown",
      "source": [
        "##Câu4"
      ],
      "metadata": {
        "id": "fXfxb36_APXa"
      }
    },
    {
      "cell_type": "code",
      "source": [
        "import random\n",
        "import numpy as np\n",
        "a = int(input(\"Nhập phần tử của a = \"))\n",
        "x=[random.randint(-10,10) for i in range(1,11)]\n",
        "print(\"Ma trận là:\")\n",
        "print(x)\n",
        "x=np.array(x)\n",
        "y=x*a\n",
        "print(\"Ma trận nhân là:\")\n",
        "print(y)"
      ],
      "metadata": {
        "colab": {
          "base_uri": "https://localhost:8080/"
        },
        "id": "5aXOXFW9u7lL",
        "outputId": "7ad7dcb8-152f-4ca8-dbbf-4ca5af752644"
      },
      "execution_count": null,
      "outputs": [
        {
          "output_type": "stream",
          "name": "stdout",
          "text": [
            "Nhập phần tử của a = 2\n",
            "Ma trận là:\n",
            "[-1, 10, 1, -7, -2, -7, -4, 9, 3, -1]\n",
            "Ma trận nhân là:\n",
            "[ -2  20   2 -14  -4 -14  -8  18   6  -2]\n"
          ]
        }
      ]
    },
    {
      "cell_type": "markdown",
      "source": [
        "##Câu 5"
      ],
      "metadata": {
        "id": "jn1sT3hQAPtz"
      }
    },
    {
      "cell_type": "code",
      "source": [
        "import numpy as np\n",
        "import random\n",
        "x=[random.randint(-10,10) for i in range(1,16)]\n",
        "y=[random.randint(-10,10) for i in range(1,16)]\n",
        "x=np.array(x)\n",
        "y=np.array(y)\n",
        "print(\"Ma trận 1:\")\n",
        "print(x)\n",
        "print(\"Ma trận 2:\")\n",
        "print(y)   \n",
        "print(\" Hai ma trận cộng:\") \n",
        "print(x+y)\n",
        "print(\"Hai ma trận nhân:\")\n",
        "print(x-y)"
      ],
      "metadata": {
        "id": "ApBlXQahu9fT",
        "colab": {
          "base_uri": "https://localhost:8080/"
        },
        "outputId": "c5266238-8b05-45da-8404-313b51f9a891"
      },
      "execution_count": null,
      "outputs": [
        {
          "output_type": "stream",
          "name": "stdout",
          "text": [
            "Ma trận 1\n",
            "[ 1  5 -6 -9 -9  3  4  8 -3 -3 -6 -6 -2  3 -3]\n",
            "Ma trận 2\n",
            "[-8  5  5  1 -5  5  9  2 -1 -6  3 -2  0 -1 -6]\n",
            " Hai ma trận cộng\n",
            "[ -7  10  -1  -8 -14   8  13  10  -4  -9  -3  -8  -2   2  -9]\n",
            "Hai ma trận nhân\n",
            "[  9   0 -11 -10  -4  -2  -5   6  -2   3  -9  -4  -2   4   3]\n"
          ]
        }
      ]
    },
    {
      "cell_type": "markdown",
      "source": [
        "## Câu6"
      ],
      "metadata": {
        "id": "f6iGjCMSAQ5h"
      }
    },
    {
      "cell_type": "code",
      "source": [
        "import numpy as np\n",
        "x=np.random.randint(-10, 10,(1,11))\n",
        "y=np.random.randint(-10,10,(1,11))\n",
        "z=np.multiply(x,y)\n",
        "print(\"Ma trận 1 là:\")\n",
        "print(x)\n",
        "print(\"Ma trận 2 là:\")\n",
        "print(y)\n",
        "print(\"Ma trận 1 x Ma trận 2\")\n",
        "print(z)"
      ],
      "metadata": {
        "id": "RNtEDHStvAxg",
        "colab": {
          "base_uri": "https://localhost:8080/"
        },
        "outputId": "4c4c1b4d-33d4-48d2-c056-43a22ba5966b"
      },
      "execution_count": 12,
      "outputs": [
        {
          "output_type": "stream",
          "name": "stdout",
          "text": [
            "Ma trận 1 là:\n",
            "[[  4   1   5  -2  -6   4 -10   2   2   7   4]]\n",
            "Ma trận 2 là:\n",
            "[[-10  -5   5   3   1  -2  -1   0  -2   3 -10]]\n",
            "Ma trận 1 x Ma trận 2\n",
            "[[-40  -5  25  -6  -6  -8  10   0  -4  21 -40]]\n"
          ]
        }
      ]
    },
    {
      "cell_type": "markdown",
      "source": [
        "##Câu 7: Tính tích vô hướng hai vecto"
      ],
      "metadata": {
        "id": "SLCamJawARU-"
      }
    },
    {
      "cell_type": "code",
      "source": [
        "import random\n",
        "x = []\n",
        "y = []\n",
        "TVH = 0 \n",
        "for i in range (0,10):\n",
        "    x.append(random.randint(-10,10))\n",
        "    y.append(random.randint(-10,10))\n",
        "    TVH=TVH+(x[i]*y[i])\n",
        "print(\"Ma trận 1:\",x)\n",
        "print(\"Ma trận 2:\",y)\n",
        "print(\"Tích vô hướng bằng\",TVH)"
      ],
      "metadata": {
        "id": "MP0WmONPtpJM",
        "colab": {
          "base_uri": "https://localhost:8080/"
        },
        "outputId": "ea9dff9b-6c3a-4d77-c48a-bdccae571b43"
      },
      "execution_count": null,
      "outputs": [
        {
          "output_type": "stream",
          "name": "stdout",
          "text": [
            "Ma trận 1: [-8, 5, -2, -6, 9, -9, 9, 8, -6, 3]\n",
            "Ma trận 2: [2, -6, 4, -1, -10, 4, -10, 4, -10, 6]\n",
            "Tích vô hướng bằng -154\n"
          ]
        }
      ]
    },
    {
      "cell_type": "markdown",
      "source": [
        "##Câu 8: Sinh ngẫu nhiên ma trận, in phần tử a23"
      ],
      "metadata": {
        "id": "SMLS6BqaARk5"
      }
    },
    {
      "cell_type": "code",
      "source": [
        "import numpy as np\n",
        "A=np.random.randint(-10,10,(3,5))\n",
        "print(\"Ma trận A là: \",A)\n",
        "print(\"Giá trị của a23:\")\n",
        "print(A[1,2])"
      ],
      "metadata": {
        "colab": {
          "base_uri": "https://localhost:8080/"
        },
        "id": "HINLWvvdgMJU",
        "outputId": "acc26a10-4e13-4fe9-c4db-19fb150a2805"
      },
      "execution_count": null,
      "outputs": [
        {
          "output_type": "stream",
          "name": "stdout",
          "text": [
            "Ma trận A là:  [[ 7  1 -9  6  3]\n",
            " [ 6  6  9 -7 -8]\n",
            " [-8 -6  0 -7  5]]\n",
            "Giá trị của a23:\n",
            "9\n"
          ]
        }
      ]
    },
    {
      "cell_type": "markdown",
      "source": [
        "##Câu 9:nhân vô hướng"
      ],
      "metadata": {
        "id": "XKX5EW5jAR4l"
      }
    },
    {
      "cell_type": "code",
      "source": [
        "import numpy as np\n",
        "a=int(input(\"Nhập hệ số tự do: \"))\n",
        "A=np.random.randint(-10,10,(3,5))\n",
        "print(\"Ma trận A là: \",A)\n",
        "A=np.array(A)\n",
        "X=a*A\n",
        "print(\"Ma trận a*A là: \",X)"
      ],
      "metadata": {
        "id": "onlNrmFFhVo-",
        "colab": {
          "base_uri": "https://localhost:8080/"
        },
        "outputId": "47c92769-eb9b-42f3-b1d6-5e62dad28fcf"
      },
      "execution_count": null,
      "outputs": [
        {
          "output_type": "stream",
          "name": "stdout",
          "text": [
            "Nhập hệ số tự do: 3\n",
            "Ma trận A là:  [[  5   8  -3  -2   1]\n",
            " [-10  -3  -6  -4   9]\n",
            " [ -4   1  -3   6  -4]]\n",
            "Ma trận a*A là:  [[ 15  24  -9  -6   3]\n",
            " [-30  -9 -18 -12  27]\n",
            " [-12   3  -9  18 -12]]\n"
          ]
        }
      ]
    },
    {
      "cell_type": "markdown",
      "source": [
        "##Câu 10: Phép cộng hai ma trận"
      ],
      "metadata": {
        "id": "7MMpE-8DASMH"
      }
    },
    {
      "cell_type": "code",
      "source": [
        "import numpy as np\n",
        "A=np.random.randint(-5,5,(3,5))\n",
        "print(\"Ma trận A là: \",A)\n",
        "B=np.random.randint(-5,5,(3,5))\n",
        "print(\"Ma trận B là: \",B)\n",
        "A=np.array(A)\n",
        "B=np.array(B)\n",
        "C=A+B\n",
        "print(\"Ma trận A + B là: \",C)"
      ],
      "metadata": {
        "colab": {
          "base_uri": "https://localhost:8080/"
        },
        "id": "9lAd0rjKbkje",
        "outputId": "53027390-b1f6-47c9-cb77-52df526d9f44"
      },
      "execution_count": null,
      "outputs": [
        {
          "output_type": "stream",
          "name": "stdout",
          "text": [
            "Ma trận A là:  [[-1  3 -5 -2  4]\n",
            " [ 1 -3 -4  3 -2]\n",
            " [ 2 -5  4 -2  4]]\n",
            "Ma trận B là:  [[ 3  1 -2  4  4]\n",
            " [-5  1  4 -1 -5]\n",
            " [-2 -4  1  3 -5]]\n",
            "Ma trận A + B là:  [[ 2  4 -7  2  8]\n",
            " [-4 -2  0  2 -7]\n",
            " [ 0 -9  5  1 -1]]\n"
          ]
        }
      ]
    },
    {
      "cell_type": "markdown",
      "source": [
        "## Câu 11: Phép nhân hai ma trận "
      ],
      "metadata": {
        "id": "-8Cia4M0ASXs"
      }
    },
    {
      "cell_type": "code",
      "source": [
        "import numpy as np\n",
        "A=np.random.randint(-10,10,(3,4))\n",
        "print(\"Ma trận A là:\",A)\n",
        "B=np.random.randint(-10,10,(4,5))\n",
        "print(\"Ma trận B là:\",B)\n",
        "C=A.dot(B)\n",
        "print(\"Hai ma trận nhân nhau:\",C)"
      ],
      "metadata": {
        "id": "hgadD4DGAZLm",
        "colab": {
          "base_uri": "https://localhost:8080/"
        },
        "outputId": "16c3295d-ad94-4d67-923a-ef7786c0e381"
      },
      "execution_count": null,
      "outputs": [
        {
          "output_type": "stream",
          "name": "stdout",
          "text": [
            "Ma trận A là: [[-6  3 -5 -6]\n",
            " [-9 -3  9 -2]\n",
            " [-9 -4  9 -6]]\n",
            "Ma trận B là: [[ 0  8 -8  0 -1]\n",
            " [ 1 -6  4  0 -2]\n",
            " [-6 -1 -1 -5  1]\n",
            " [ 9  3  5  9 -8]]\n",
            "Hai ma trận nhân nhau: [[ -21  -79   35  -29   43]\n",
            " [ -75  -69   41  -63   40]\n",
            " [-112  -75   17  -99   74]]\n"
          ]
        }
      ]
    }
  ]
}